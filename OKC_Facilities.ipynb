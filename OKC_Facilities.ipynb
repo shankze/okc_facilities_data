{
 "cells": [
  {
   "cell_type": "code",
   "execution_count": 2275,
   "id": "c6004c21-1ca6-4342-a19e-d8cb6b8fd26b",
   "metadata": {},
   "outputs": [],
   "source": [
    "import pandas as pd\n",
    "import numpy as np\n",
    "import os"
   ]
  },
  {
   "cell_type": "code",
   "execution_count": 2276,
   "id": "f5d437bb-0d61-40f3-beec-a0f154061fbc",
   "metadata": {},
   "outputs": [],
   "source": [
    "#pip install pandas"
   ]
  },
  {
   "cell_type": "code",
   "execution_count": 2277,
   "id": "9ccedf37-2aa8-4dbb-8ad8-0e47cc024214",
   "metadata": {},
   "outputs": [],
   "source": [
    "# Helper Methods\n",
    "\n",
    "def generate_column_info(df):\n",
    "    cls = []\n",
    "    nullCount = []\n",
    "    nonNullCount = []\n",
    "    nullsPct = []\n",
    "    uniqCount = []\n",
    "    dataType = []\n",
    "    for i,col in enumerate(df.columns):\n",
    "        cls.append(col)\n",
    "        nullCount.append(df[col].isnull().sum())\n",
    "        nonNullCount.append(len(df)-df[col].isnull().sum())\n",
    "        nullsPct.append((df[col].isnull().sum())*(100)/len(df))\n",
    "        uniqCount.append(df[col].nunique())\n",
    "        dataType.append(df[col].dtype)\n",
    "        \n",
    "    column_info = pd.DataFrame(\n",
    "        {'ColumnName': cls,\n",
    "         'NullCount': nullCount,\n",
    "         'NonNullCount': nonNullCount,\n",
    "         'NullPercent': nullsPct,\n",
    "         'UniqueValueCount': uniqCount,\n",
    "         'DataType':dataType\n",
    "        })\n",
    "    return(column_info)"
   ]
  },
  {
   "cell_type": "markdown",
   "id": "4d4eeb54-f786-4278-9ddc-93ff704bdde7",
   "metadata": {},
   "source": [
    "## Data"
   ]
  },
  {
   "cell_type": "markdown",
   "id": "0322c84f-848d-4f29-907f-b8323ce8fd2e",
   "metadata": {},
   "source": [
    "abbr_dict = {\n",
    "    'flight_Liquefied Natural Gas ImpExp Equipment.xls':'LNG_IMEX',\n",
    "    'flight_Liquefied Natural Gas Storage.xls':'LNG_STOR',\n",
    "    'flight_Natural Gas Local Distribution Companies.xls':'NG_LDC',\n",
    "    'flight_Natural Gas Processing.xls':'NG_PROC',\n",
    "    'flight_Natural Gas TransmissionCompression.xls':'NG_COMP',\n",
    "    'flight_Offshore Petroleum & Natural Gas Production.xls':'PROD_OFF',\n",
    "    'flight_Onshore Natural Gas Transmission Pipelines.xls':'NG_PIPE',\n",
    "    'flight_Onshore Petroleum & Natural Gas Gathering & Boosting.xls':'NG_GNB',\n",
    "    'flight_Onshore Petroleum & Natural Gas Production.xls':'PROD_ON',\n",
    "    'flight_Other Petroleum & Natural Gas Systems.xls':'ONG_OTH',\n",
    "    'flight_Underground Natural Gas Storage.xls':'NG_STOR',\n",
    "}\n",
    "\n",
    "sub_sector_dict = {\n",
    "    'NG_LDC':'NaturalGasDistribution',\n",
    "    'PROD_OFF':'OffshoreProduction',\n",
    "    'PROD_ON':'OnshoreProduction',\n",
    "}"
   ]
  },
  {
   "cell_type": "code",
   "execution_count": 2278,
   "id": "16cfe6ba-0dd6-423e-b102-2313f6bc652a",
   "metadata": {},
   "outputs": [],
   "source": [
    "#pip install pyxlsb"
   ]
  },
  {
   "cell_type": "markdown",
   "id": "42d1a403-9bd3-4201-97be-1447cf405297",
   "metadata": {},
   "source": [
    "## Facilities List"
   ]
  },
  {
   "cell_type": "code",
   "execution_count": 2279,
   "id": "e6f7d33e-5e3a-4758-873c-e1aa38162028",
   "metadata": {},
   "outputs": [
    {
     "name": "stderr",
     "output_type": "stream",
     "text": [
      "C:\\Users\\shankze\\AppData\\Local\\Temp\\ipykernel_8412\\1785748913.py:9: FutureWarning: The behavior of DataFrame concatenation with empty or all-NA entries is deprecated. In a future version, this will no longer exclude empty or all-NA columns when determining the result dtypes. To retain the old behavior, exclude the relevant entries before the concat operation.\n",
      "  file_df = pd.concat(file_dict, ignore_index=True)\n",
      "C:\\Users\\shankze\\AppData\\Local\\Temp\\ipykernel_8412\\1785748913.py:9: FutureWarning: The behavior of DataFrame concatenation with empty or all-NA entries is deprecated. In a future version, this will no longer exclude empty or all-NA columns when determining the result dtypes. To retain the old behavior, exclude the relevant entries before the concat operation.\n",
      "  file_df = pd.concat(file_dict, ignore_index=True)\n",
      "C:\\Users\\shankze\\AppData\\Local\\Temp\\ipykernel_8412\\1785748913.py:9: FutureWarning: The behavior of DataFrame concatenation with empty or all-NA entries is deprecated. In a future version, this will no longer exclude empty or all-NA columns when determining the result dtypes. To retain the old behavior, exclude the relevant entries before the concat operation.\n",
      "  file_df = pd.concat(file_dict, ignore_index=True)\n",
      "C:\\Users\\shankze\\AppData\\Local\\Temp\\ipykernel_8412\\1785748913.py:9: FutureWarning: The behavior of DataFrame concatenation with empty or all-NA entries is deprecated. In a future version, this will no longer exclude empty or all-NA columns when determining the result dtypes. To retain the old behavior, exclude the relevant entries before the concat operation.\n",
      "  file_df = pd.concat(file_dict, ignore_index=True)\n",
      "C:\\Users\\shankze\\AppData\\Local\\Temp\\ipykernel_8412\\1785748913.py:9: FutureWarning: The behavior of DataFrame concatenation with empty or all-NA entries is deprecated. In a future version, this will no longer exclude empty or all-NA columns when determining the result dtypes. To retain the old behavior, exclude the relevant entries before the concat operation.\n",
      "  file_df = pd.concat(file_dict, ignore_index=True)\n",
      "C:\\Users\\shankze\\AppData\\Local\\Temp\\ipykernel_8412\\1785748913.py:9: FutureWarning: The behavior of DataFrame concatenation with empty or all-NA entries is deprecated. In a future version, this will no longer exclude empty or all-NA columns when determining the result dtypes. To retain the old behavior, exclude the relevant entries before the concat operation.\n",
      "  file_df = pd.concat(file_dict, ignore_index=True)\n",
      "C:\\Users\\shankze\\AppData\\Local\\Temp\\ipykernel_8412\\1785748913.py:9: FutureWarning: The behavior of DataFrame concatenation with empty or all-NA entries is deprecated. In a future version, this will no longer exclude empty or all-NA columns when determining the result dtypes. To retain the old behavior, exclude the relevant entries before the concat operation.\n",
      "  file_df = pd.concat(file_dict, ignore_index=True)\n",
      "C:\\Users\\shankze\\AppData\\Local\\Temp\\ipykernel_8412\\1785748913.py:9: FutureWarning: The behavior of DataFrame concatenation with empty or all-NA entries is deprecated. In a future version, this will no longer exclude empty or all-NA columns when determining the result dtypes. To retain the old behavior, exclude the relevant entries before the concat operation.\n",
      "  file_df = pd.concat(file_dict, ignore_index=True)\n"
     ]
    },
    {
     "name": "stdout",
     "output_type": "stream",
     "text": [
      "30781\n"
     ]
    },
    {
     "name": "stderr",
     "output_type": "stream",
     "text": [
      "C:\\Users\\shankze\\AppData\\Local\\Temp\\ipykernel_8412\\1785748913.py:9: FutureWarning: The behavior of DataFrame concatenation with empty or all-NA entries is deprecated. In a future version, this will no longer exclude empty or all-NA columns when determining the result dtypes. To retain the old behavior, exclude the relevant entries before the concat operation.\n",
      "  file_df = pd.concat(file_dict, ignore_index=True)\n",
      "C:\\Users\\shankze\\AppData\\Local\\Temp\\ipykernel_8412\\1785748913.py:9: FutureWarning: The behavior of DataFrame concatenation with empty or all-NA entries is deprecated. In a future version, this will no longer exclude empty or all-NA columns when determining the result dtypes. To retain the old behavior, exclude the relevant entries before the concat operation.\n",
      "  file_df = pd.concat(file_dict, ignore_index=True)\n"
     ]
    }
   ],
   "source": [
    "#directory_path = 'C://Users//shashank.bekal//PythonWorkArea//Jnana-Research//OKC-Facilities//files'\n",
    "directory_path = './/files'\n",
    "all_files = os.listdir(directory_path)\n",
    "xls_files = [file for file in all_files if file.endswith('.xls')]\n",
    "\n",
    "facilities_master_df = pd.DataFrame()\n",
    "for file_name in xls_files:\n",
    "    file_dict = pd.read_excel(f'.//files/{file_name}',sheet_name=None,skiprows=6)\n",
    "    file_df = pd.concat(file_dict, ignore_index=True)\n",
    "    file_df[\"Abbr\"] = abbr_dict[file_name]\n",
    "    #print((file_name))\n",
    "    facilities_master_df = pd.concat([facilities_master_df,file_df])\n",
    "#print('---')\n",
    "print(len(facilities_master_df))"
   ]
  },
  {
   "cell_type": "code",
   "execution_count": null,
   "id": "7b1d8c99-8bcc-4077-8605-b3b62049d016",
   "metadata": {},
   "outputs": [],
   "source": []
  },
  {
   "cell_type": "code",
   "execution_count": 2280,
   "id": "8deb0ec1-c752-4105-a2ba-106982f7ec69",
   "metadata": {},
   "outputs": [],
   "source": [
    "required_subsectors = ['PROD_OFF','PROD_ON']\n",
    "\n",
    "# filter by 3 required subsectors\n",
    "facilities_master_df = facilities_master_df[facilities_master_df['Abbr'].isin(required_subsectors)]\n",
    "facilities_master_df['sub_sector'] = facilities_master_df['Abbr'].map(sub_sector_dict)\n",
    "facilities_master_df = facilities_master_df.rename(columns={'GHG QUANTITY (METRIC TONS CO2e)':'FACILITY_WIDE_GHG_QUANTITY'})\n",
    "facilities_master_df = facilities_master_df.rename(columns={'GHGRP ID':'facility_id','REPORTING YEAR':'reporting_year'})\n",
    "facilities_master_df = facilities_master_df.drop(['FACILITY NAME','SUBPARTS'],axis=1)"
   ]
  },
  {
   "cell_type": "code",
   "execution_count": 2281,
   "id": "7ddc42e9-edf4-489b-9550-f53ce2c3da63",
   "metadata": {},
   "outputs": [],
   "source": [
    "#facilities_master_df['sub_sector'].value_counts()"
   ]
  },
  {
   "cell_type": "code",
   "execution_count": 2282,
   "id": "87e29780-013b-4bd3-8a65-638ba05ed2e5",
   "metadata": {},
   "outputs": [
    {
     "data": {
      "text/html": [
       "<div>\n",
       "<style scoped>\n",
       "    .dataframe tbody tr th:only-of-type {\n",
       "        vertical-align: middle;\n",
       "    }\n",
       "\n",
       "    .dataframe tbody tr th {\n",
       "        vertical-align: top;\n",
       "    }\n",
       "\n",
       "    .dataframe thead th {\n",
       "        text-align: right;\n",
       "    }\n",
       "</style>\n",
       "<table border=\"1\" class=\"dataframe\">\n",
       "  <thead>\n",
       "    <tr style=\"text-align: right;\">\n",
       "      <th></th>\n",
       "      <th>ColumnName</th>\n",
       "      <th>NullCount</th>\n",
       "      <th>NonNullCount</th>\n",
       "      <th>NullPercent</th>\n",
       "      <th>UniqueValueCount</th>\n",
       "      <th>DataType</th>\n",
       "    </tr>\n",
       "  </thead>\n",
       "  <tbody>\n",
       "    <tr>\n",
       "      <th>0</th>\n",
       "      <td>reporting_year</td>\n",
       "      <td>0</td>\n",
       "      <td>8055</td>\n",
       "      <td>0.000000</td>\n",
       "      <td>13</td>\n",
       "      <td>object</td>\n",
       "    </tr>\n",
       "    <tr>\n",
       "      <th>1</th>\n",
       "      <td>facility_id</td>\n",
       "      <td>0</td>\n",
       "      <td>8055</td>\n",
       "      <td>0.000000</td>\n",
       "      <td>1149</td>\n",
       "      <td>object</td>\n",
       "    </tr>\n",
       "    <tr>\n",
       "      <th>2</th>\n",
       "      <td>REPORTED ADDRESS</td>\n",
       "      <td>1645</td>\n",
       "      <td>6410</td>\n",
       "      <td>20.422098</td>\n",
       "      <td>746</td>\n",
       "      <td>object</td>\n",
       "    </tr>\n",
       "    <tr>\n",
       "      <th>3</th>\n",
       "      <td>LATITUDE</td>\n",
       "      <td>0</td>\n",
       "      <td>8055</td>\n",
       "      <td>0.000000</td>\n",
       "      <td>786</td>\n",
       "      <td>float64</td>\n",
       "    </tr>\n",
       "    <tr>\n",
       "      <th>4</th>\n",
       "      <td>LONGITUDE</td>\n",
       "      <td>0</td>\n",
       "      <td>8055</td>\n",
       "      <td>0.000000</td>\n",
       "      <td>784</td>\n",
       "      <td>float64</td>\n",
       "    </tr>\n",
       "    <tr>\n",
       "      <th>5</th>\n",
       "      <td>CITY NAME</td>\n",
       "      <td>0</td>\n",
       "      <td>8055</td>\n",
       "      <td>0.000000</td>\n",
       "      <td>191</td>\n",
       "      <td>object</td>\n",
       "    </tr>\n",
       "    <tr>\n",
       "      <th>6</th>\n",
       "      <td>COUNTY NAME</td>\n",
       "      <td>5348</td>\n",
       "      <td>2707</td>\n",
       "      <td>66.393544</td>\n",
       "      <td>166</td>\n",
       "      <td>object</td>\n",
       "    </tr>\n",
       "    <tr>\n",
       "      <th>7</th>\n",
       "      <td>STATE</td>\n",
       "      <td>0</td>\n",
       "      <td>8055</td>\n",
       "      <td>0.000000</td>\n",
       "      <td>22</td>\n",
       "      <td>object</td>\n",
       "    </tr>\n",
       "    <tr>\n",
       "      <th>8</th>\n",
       "      <td>ZIP CODE</td>\n",
       "      <td>0</td>\n",
       "      <td>8055</td>\n",
       "      <td>0.000000</td>\n",
       "      <td>268</td>\n",
       "      <td>object</td>\n",
       "    </tr>\n",
       "    <tr>\n",
       "      <th>9</th>\n",
       "      <td>PARENT COMPANIES</td>\n",
       "      <td>42</td>\n",
       "      <td>8013</td>\n",
       "      <td>0.521415</td>\n",
       "      <td>1284</td>\n",
       "      <td>object</td>\n",
       "    </tr>\n",
       "    <tr>\n",
       "      <th>10</th>\n",
       "      <td>FACILITY_WIDE_GHG_QUANTITY</td>\n",
       "      <td>0</td>\n",
       "      <td>8055</td>\n",
       "      <td>0.000000</td>\n",
       "      <td>7878</td>\n",
       "      <td>object</td>\n",
       "    </tr>\n",
       "    <tr>\n",
       "      <th>11</th>\n",
       "      <td>Abbr</td>\n",
       "      <td>0</td>\n",
       "      <td>8055</td>\n",
       "      <td>0.000000</td>\n",
       "      <td>2</td>\n",
       "      <td>object</td>\n",
       "    </tr>\n",
       "    <tr>\n",
       "      <th>12</th>\n",
       "      <td>BASIN NAME/NUMBER</td>\n",
       "      <td>1670</td>\n",
       "      <td>6385</td>\n",
       "      <td>20.732464</td>\n",
       "      <td>43</td>\n",
       "      <td>object</td>\n",
       "    </tr>\n",
       "    <tr>\n",
       "      <th>13</th>\n",
       "      <td>sub_sector</td>\n",
       "      <td>0</td>\n",
       "      <td>8055</td>\n",
       "      <td>0.000000</td>\n",
       "      <td>2</td>\n",
       "      <td>object</td>\n",
       "    </tr>\n",
       "  </tbody>\n",
       "</table>\n",
       "</div>"
      ],
      "text/plain": [
       "                    ColumnName  NullCount  NonNullCount  NullPercent  \\\n",
       "0               reporting_year          0          8055     0.000000   \n",
       "1                  facility_id          0          8055     0.000000   \n",
       "2             REPORTED ADDRESS       1645          6410    20.422098   \n",
       "3                     LATITUDE          0          8055     0.000000   \n",
       "4                    LONGITUDE          0          8055     0.000000   \n",
       "5                    CITY NAME          0          8055     0.000000   \n",
       "6                  COUNTY NAME       5348          2707    66.393544   \n",
       "7                        STATE          0          8055     0.000000   \n",
       "8                     ZIP CODE          0          8055     0.000000   \n",
       "9             PARENT COMPANIES         42          8013     0.521415   \n",
       "10  FACILITY_WIDE_GHG_QUANTITY          0          8055     0.000000   \n",
       "11                        Abbr          0          8055     0.000000   \n",
       "12           BASIN NAME/NUMBER       1670          6385    20.732464   \n",
       "13                  sub_sector          0          8055     0.000000   \n",
       "\n",
       "    UniqueValueCount DataType  \n",
       "0                 13   object  \n",
       "1               1149   object  \n",
       "2                746   object  \n",
       "3                786  float64  \n",
       "4                784  float64  \n",
       "5                191   object  \n",
       "6                166   object  \n",
       "7                 22   object  \n",
       "8                268   object  \n",
       "9               1284   object  \n",
       "10              7878   object  \n",
       "11                 2   object  \n",
       "12                43   object  \n",
       "13                 2   object  "
      ]
     },
     "execution_count": 2282,
     "metadata": {},
     "output_type": "execute_result"
    }
   ],
   "source": [
    "generate_column_info(facilities_master_df)"
   ]
  },
  {
   "cell_type": "markdown",
   "id": "6a2dd82f-178e-4c97-985a-3a062fae4118",
   "metadata": {},
   "source": [
    "## EPA Verified Facilities List"
   ]
  },
  {
   "cell_type": "code",
   "execution_count": 2283,
   "id": "e1892bea-6ed2-4df0-bb45-cd83758a5f4a",
   "metadata": {},
   "outputs": [
    {
     "name": "stderr",
     "output_type": "stream",
     "text": [
      "C:\\Users\\shankze\\AppData\\Local\\Temp\\ipykernel_8412\\1253078419.py:2: FutureWarning: The behavior of DataFrame concatenation with empty or all-NA entries is deprecated. In a future version, this will no longer exclude empty or all-NA columns when determining the result dtypes. To retain the old behavior, exclude the relevant entries before the concat operation.\n",
      "  epa_ver_df = pd.concat(epa_ver_df, ignore_index=True)\n"
     ]
    },
    {
     "data": {
      "text/html": [
       "<div>\n",
       "<style scoped>\n",
       "    .dataframe tbody tr th:only-of-type {\n",
       "        vertical-align: middle;\n",
       "    }\n",
       "\n",
       "    .dataframe tbody tr th {\n",
       "        vertical-align: top;\n",
       "    }\n",
       "\n",
       "    .dataframe thead th {\n",
       "        text-align: right;\n",
       "    }\n",
       "</style>\n",
       "<table border=\"1\" class=\"dataframe\">\n",
       "  <thead>\n",
       "    <tr style=\"text-align: right;\">\n",
       "      <th></th>\n",
       "      <th>facility_id</th>\n",
       "      <th>reporting_year</th>\n",
       "      <th>EPA_verified</th>\n",
       "    </tr>\n",
       "  </thead>\n",
       "  <tbody>\n",
       "    <tr>\n",
       "      <th>0</th>\n",
       "      <td>1002685</td>\n",
       "      <td>2022</td>\n",
       "      <td>1</td>\n",
       "    </tr>\n",
       "    <tr>\n",
       "      <th>1</th>\n",
       "      <td>1002685</td>\n",
       "      <td>2021</td>\n",
       "      <td>1</td>\n",
       "    </tr>\n",
       "    <tr>\n",
       "      <th>2</th>\n",
       "      <td>1002685</td>\n",
       "      <td>2020</td>\n",
       "      <td>1</td>\n",
       "    </tr>\n",
       "    <tr>\n",
       "      <th>3</th>\n",
       "      <td>1002685</td>\n",
       "      <td>2019</td>\n",
       "      <td>1</td>\n",
       "    </tr>\n",
       "    <tr>\n",
       "      <th>4</th>\n",
       "      <td>1002685</td>\n",
       "      <td>2018</td>\n",
       "      <td>1</td>\n",
       "    </tr>\n",
       "    <tr>\n",
       "      <th>...</th>\n",
       "      <td>...</td>\n",
       "      <td>...</td>\n",
       "      <td>...</td>\n",
       "    </tr>\n",
       "    <tr>\n",
       "      <th>45100</th>\n",
       "      <td>1011290</td>\n",
       "      <td>2015</td>\n",
       "      <td>1</td>\n",
       "    </tr>\n",
       "    <tr>\n",
       "      <th>45997</th>\n",
       "      <td>1011724</td>\n",
       "      <td>2015</td>\n",
       "      <td>1</td>\n",
       "    </tr>\n",
       "    <tr>\n",
       "      <th>46867</th>\n",
       "      <td>1011289</td>\n",
       "      <td>2015</td>\n",
       "      <td>1</td>\n",
       "    </tr>\n",
       "    <tr>\n",
       "      <th>47127</th>\n",
       "      <td>1010485</td>\n",
       "      <td>2015</td>\n",
       "      <td>1</td>\n",
       "    </tr>\n",
       "    <tr>\n",
       "      <th>47924</th>\n",
       "      <td>1011291</td>\n",
       "      <td>2015</td>\n",
       "      <td>1</td>\n",
       "    </tr>\n",
       "  </tbody>\n",
       "</table>\n",
       "<p>8034 rows × 3 columns</p>\n",
       "</div>"
      ],
      "text/plain": [
       "      facility_id reporting_year  EPA_verified\n",
       "0         1002685           2022             1\n",
       "1         1002685           2021             1\n",
       "2         1002685           2020             1\n",
       "3         1002685           2019             1\n",
       "4         1002685           2018             1\n",
       "...           ...            ...           ...\n",
       "45100     1011290           2015             1\n",
       "45997     1011724           2015             1\n",
       "46867     1011289           2015             1\n",
       "47127     1010485           2015             1\n",
       "47924     1011291           2015             1\n",
       "\n",
       "[8034 rows x 3 columns]"
      ]
     },
     "execution_count": 2283,
     "metadata": {},
     "output_type": "execute_result"
    }
   ],
   "source": [
    "epa_ver_df = pd.read_excel('EPA_verified_facilities.xls',sheet_name=None,skiprows=6)\n",
    "epa_ver_df = pd.concat(epa_ver_df, ignore_index=True)\n",
    "epa_ver_df['REPORTING YEAR'] = epa_ver_df['REPORTING YEAR'].astype(int)\n",
    "epa_ver_df['GHGRP ID'] = epa_ver_df['GHGRP ID'].astype(int)\n",
    "epa_ver_df = epa_ver_df.rename(columns={'GHGRP ID':'facility_id','REPORTING YEAR':'reporting_year'})\n",
    "epa_verified_unique_facilities_df = df[['facility_id', 'reporting_year']].drop_duplicates()\n",
    "epa_verified_unique_facilities_df['EPA_verified'] = 1\n",
    "epa_verified_unique_facilities_df"
   ]
  },
  {
   "cell_type": "code",
   "execution_count": null,
   "id": "43116f1b-8a63-44fe-b450-d34755bb9567",
   "metadata": {},
   "outputs": [],
   "source": []
  },
  {
   "cell_type": "markdown",
   "id": "75234835-86ee-41bc-9919-a594a83d6319",
   "metadata": {},
   "source": [
    "## Facilities Metadata"
   ]
  },
  {
   "cell_type": "code",
   "execution_count": 2284,
   "id": "05d9d573-6fcd-44bc-bf45-4302e14d3506",
   "metadata": {},
   "outputs": [],
   "source": [
    "# facilities_metadata_df = pd.read_csv('rlps_ghg_emitter_facilities.csv')\n",
    "# facilities_metadata_df = facilities_metadata_df[['facility_id','year','epa_verified']]\n",
    "# facilities_metadata_df"
   ]
  },
  {
   "cell_type": "code",
   "execution_count": 2285,
   "id": "d745df7c-bc3c-4f55-b781-a20526994fd1",
   "metadata": {},
   "outputs": [],
   "source": [
    "# facilities_metadata_df.columns"
   ]
  },
  {
   "cell_type": "code",
   "execution_count": 2286,
   "id": "0a40e73d-ad9a-4638-87cb-df010278c914",
   "metadata": {},
   "outputs": [],
   "source": [
    "# facilities_metadata_df[facilities_metadata_df.duplicated(subset=['facility_id','year'])]"
   ]
  },
  {
   "cell_type": "code",
   "execution_count": 2287,
   "id": "884a086a-ce3c-4428-adeb-dcfe259a70e3",
   "metadata": {},
   "outputs": [],
   "source": [
    "# facilities_master_df = pd.merge(facilities_master_df,facilities_metadata_df,how='left',left_on=['GHGRP ID','REPORTING YEAR'],right_on=['facility_id','year'])"
   ]
  },
  {
   "cell_type": "code",
   "execution_count": 2288,
   "id": "d98cec63-344e-477d-8af0-7eecf90f77ca",
   "metadata": {},
   "outputs": [],
   "source": [
    "# facilities_master_df"
   ]
  },
  {
   "cell_type": "code",
   "execution_count": 2289,
   "id": "f238d1cc-2f07-4c1a-8723-9d969e52146f",
   "metadata": {},
   "outputs": [],
   "source": [
    "# facilities_master_df.columns"
   ]
  },
  {
   "cell_type": "code",
   "execution_count": 2290,
   "id": "83ed3cca-44be-4019-af67-6984076bfca3",
   "metadata": {},
   "outputs": [],
   "source": [
    "# generate_column_info(facilities_master_df)"
   ]
  },
  {
   "cell_type": "markdown",
   "id": "0e550e1b-068c-4105-80a2-3ad3c4ac74a3",
   "metadata": {},
   "source": [
    "## Combustion Sources"
   ]
  },
  {
   "cell_type": "code",
   "execution_count": null,
   "id": "a667ac01-dd66-45dc-976c-0e2738981dd9",
   "metadata": {},
   "outputs": [],
   "source": [
    "#emissions_by_unit_df = pd.read_excel('emissions_by_unit_and_fuel_type_c_d_aa.xlsx',engine=\"openpyxl\", sheet_name=\"UNIT_DATA\")\n",
    "c_df = pd.read_excel('emissions_by_unit_and_fuel_type_c_d_aa.xlsx', sheet_name=\"UNIT_DATA\",skiprows=6)\n",
    "c_df['Reporting Year'] = c_df['Reporting Year'].astype(int)\n",
    "c_df['Facility Id'] = c_df['Facility Id'].astype(int)\n",
    "c_df = c_df.rename(columns={'Facility Id':'facility_id','Facility Name':'facility_name','Reporting Year':'reporting_year'})\n",
    "c_df = c_df.rename(columns={'Unit Type':'reporting_category','Unit CO2 emissions (non-biogenic) ':'total_co2_emissions','Unit Methane (CH4) emissions ':'total_ch4_emissions'})\n",
    "c_df = c_df.rename(columns={'Unit Nitrous Oxide (N2O) emissions ':'total_n2o_emissions'})\n",
    "c_df = c_df.drop(columns=['Unit Reporting Method','City','Primary NAICS Code','FRS Id','Industry Type (subparts)','Industry Type (sectors)','Unit Biogenic CO2 emissions (metric tons)'])\n",
    "c_df = c_df.rename(columns={'Unit Maximum Rated Heat Input Capacity (mmBTU/hr)':'maximum_rated_heat_input_capacity','State':'state'})\n",
    "#c_df = c_df[c_df['reporting_category'].notna()]\n",
    "c_df['subpart'] = 'SubpartC'\n",
    "c_df[['total_co2_emissions','total_ch4_emissions','total_n2o_emissions']] = c_df[['total_co2_emissions','total_ch4_emissions','total_n2o_emissions']].fillna(0)\n",
    "c_df"
   ]
  },
  {
   "cell_type": "code",
   "execution_count": null,
   "id": "7e7b5180-9544-4774-9f16-baf04869cd18",
   "metadata": {},
   "outputs": [],
   "source": []
  },
  {
   "cell_type": "markdown",
   "id": "b8feee2a-0df8-44b5-9fc0-18ff6160a0c8",
   "metadata": {},
   "source": [
    "# Emission Source"
   ]
  },
  {
   "cell_type": "code",
   "execution_count": null,
   "id": "7f97efdd-1ef2-4400-8ef9-7ab5f5503d4a",
   "metadata": {},
   "outputs": [],
   "source": [
    "w_df = pd.read_csv('ef_w_emissions_source_ghg.csv',encoding = 'ISO-8859-1')\n",
    "print(len(w_df))\n",
    "w_df['reporting_year'] = w_df['reporting_year'].astype(int)\n",
    "w_df['facility_id'] = w_df['facility_id'].astype(int)\n",
    "w_df = w_df.drop(columns=['bamm_desc_source_summary','bamm_indicator_source_summary','industry_segment'], axis=1)\n",
    "w_df = w_df.rename(columns={'total_reported_co2_emissions':'total_co2_emissions'})\n",
    "w_df = w_df.rename(columns={'total_reported_ch4_emissions':'total_ch4_emissions'})\n",
    "w_df = w_df.rename(columns={'total_reported_n2o_emissions':'total_n2o_emissions'})\n",
    "w_df[['total_co2_emissions','total_ch4_emissions','total_n2o_emissions']] = w_df[['total_co2_emissions','total_ch4_emissions','total_n2o_emissions']].fillna(0)\n",
    "w_df['total_ch4_emissions'] = w_df['total_ch4_emissions'] * 25\n",
    "w_df['total_n2o_emissions'] = w_df['total_n2o_emissions'] * 298\n",
    "w_df['subpart'] = 'SubpartW'\n",
    "w_df"
   ]
  },
  {
   "cell_type": "code",
   "execution_count": null,
   "id": "241c207e-efea-4c98-854a-988a0804fa00",
   "metadata": {},
   "outputs": [],
   "source": []
  },
  {
   "cell_type": "code",
   "execution_count": null,
   "id": "05e0076c-865d-4416-9df7-208012a68c3e",
   "metadata": {},
   "outputs": [],
   "source": [
    "# #w_df[(w_df['reporting_year']==2022) & (w_df['facility_id']==1000435)]\n",
    "# temp_df = w_df[(w_df['reporting_year']==2022) & (w_df['facility_id']==1000435)]#[['reporting_category','total_co2_emissions','total_ch4_emissions','total_n2o_emissions','total_ghg_emissions']]\n",
    "# temp_df[['total_co2_emissions','total_ch4_emissions','total_n2o_emissions']] = temp_df[['total_co2_emissions','total_ch4_emissions','total_n2o_emissions']].fillna(0)\n",
    "# temp_df['total_ghg_emissions'] = temp_df['total_co2_emissions'] + temp_df['total_ch4_emissions'] + temp_df['total_n2o_emissions']\n",
    "# temp_df[['reporting_category','total_co2_emissions','total_ch4_emissions','total_n2o_emissions','total_ghg_emissions']]\n",
    "# temp_df = temp_df[temp_df['total_ghg_emissions']>0]\n",
    "# temp_df[['reporting_category','total_co2_emissions','total_ch4_emissions','total_n2o_emissions','total_ghg_emissions']]"
   ]
  },
  {
   "cell_type": "code",
   "execution_count": null,
   "id": "f172f600-a8f6-4265-b93f-cccdfc446ec6",
   "metadata": {},
   "outputs": [],
   "source": []
  },
  {
   "cell_type": "markdown",
   "id": "a0fbdd04-28c4-4fa4-b54c-4bf297883c5c",
   "metadata": {},
   "source": [
    "## ConCat c_df and w_df"
   ]
  },
  {
   "cell_type": "code",
   "execution_count": null,
   "id": "b1cf5d2f-f837-4f80-a486-1883a44374c6",
   "metadata": {},
   "outputs": [],
   "source": [
    "df = pd.concat([c_df,w_df], ignore_index=True)"
   ]
  },
  {
   "cell_type": "code",
   "execution_count": null,
   "id": "088c4cd2-a7a3-412b-b201-31047ba9bd82",
   "metadata": {},
   "outputs": [],
   "source": [
    "generate_column_info(df)"
   ]
  },
  {
   "cell_type": "code",
   "execution_count": null,
   "id": "a079b3a7-384b-4e4c-b653-9f5b13b218fc",
   "metadata": {},
   "outputs": [],
   "source": [
    "# df['total_ghg_emissions'] = df['total_co2_emissions'] + df['total_ch4_emissions'] + df['total_n2o_emissions']\n",
    "# df = df[df['total_ghg_emissions']>0]"
   ]
  },
  {
   "cell_type": "code",
   "execution_count": null,
   "id": "ff61b944-b77d-470c-ac4f-a60c6104116b",
   "metadata": {},
   "outputs": [],
   "source": [
    "len(df)"
   ]
  },
  {
   "cell_type": "code",
   "execution_count": null,
   "id": "87427525-eb5a-4e88-a496-bee01049e179",
   "metadata": {},
   "outputs": [],
   "source": [
    "df[(df['facility_id']==1001727)&(df['reporting_year']==2023)]"
   ]
  },
  {
   "cell_type": "markdown",
   "id": "62db2f6c-50c2-44d4-993c-3928fa2696b7",
   "metadata": {},
   "source": [
    "## Rename Reporting Category"
   ]
  },
  {
   "cell_type": "code",
   "execution_count": null,
   "id": "fe433f3b-9464-4f21-bec6-dc9e1921e9b3",
   "metadata": {},
   "outputs": [],
   "source": [
    "reporting_category_names_df = pd.read_csv('reporting_categories.csv')\n",
    "df = pd.merge(df, reporting_category_names_df, how='left',on=['reporting_category'])\n",
    "df = df.drop('reporting_category',axis=1)\n",
    "df = df.rename(columns={'REVISED_COLUMNNAME':'reporting_category'})"
   ]
  },
  {
   "cell_type": "markdown",
   "id": "501efeeb-bb1b-46e9-bcc4-7cfb7c5ca02f",
   "metadata": {},
   "source": [
    "## validate before substitutions"
   ]
  },
  {
   "cell_type": "code",
   "execution_count": null,
   "id": "42ba0582-3882-4128-b50d-4d0e109fe254",
   "metadata": {},
   "outputs": [],
   "source": [
    "# facilities_in_required_subsectors = facilities_master_df['facility_id'].unique()\n",
    "\n",
    "# validation_before_sub_df = df\n",
    "# validation_before_sub_df = validation_before_sub_df[validation_before_sub_df.facility_id.isin(facilities_in_required_subsectors)]\n",
    "\n",
    "# validation_before_sub_df['total_ghg_emissions'] = validation_before_sub_df['total_co2_emissions'] + validation_before_sub_df['total_ch4_emissions'] + validation_before_sub_df['total_n2o_emissions']\n",
    "# validation_before_sub_df = validation_before_sub_df[['facility_id','reporting_year','total_co2_emissions','total_ch4_emissions','total_n2o_emissions','total_ghg_emissions']]\n",
    "# validation_before_sub_df=validation_before_sub_df.groupby(['facility_id','reporting_year']).sum().reset_index()\n",
    "# validation_before_sub_df = pd.merge(validation_before_sub_df,facilities_master_df[['facility_id','reporting_year','FACILITY_WIDE_GHG_QUANTITY']],how='left',on=['facility_id','reporting_year'])\n",
    "\n",
    "# validation_before_sub_df = validation_before_sub_df[validation_before_sub_df['FACILITY_WIDE_GHG_QUANTITY']>0]\n",
    "# validation_before_sub_df['diff'] = (validation_before_sub_df['FACILITY_WIDE_GHG_QUANTITY']-validation_before_sub_df['total_ghg_emissions']).abs()\n",
    "# validation_before_sub_df['diff_percent_GHG']=100*validation_before_sub_df['diff']/validation_before_sub_df['FACILITY_WIDE_GHG_QUANTITY']\n",
    "# validation_before_sub_df.to_csv('validation_before_sub_df.csv', index=False)\n",
    "# validation_before_sub_df"
   ]
  },
  {
   "cell_type": "code",
   "execution_count": null,
   "id": "33c56920-fd12-4a66-b3b5-68f0b183db7f",
   "metadata": {},
   "outputs": [],
   "source": [
    "#validation_df[validation_df.diff_percent_GHG > 10]"
   ]
  },
  {
   "cell_type": "markdown",
   "id": "c74e1b91-de94-4d67-982a-8377834773e8",
   "metadata": {},
   "source": [
    "## Concat Pneumatic Devices from detailed dataset"
   ]
  },
  {
   "cell_type": "code",
   "execution_count": null,
   "id": "7301cf4f-3c48-4947-ae1c-75e7973fabaa",
   "metadata": {},
   "outputs": [],
   "source": [
    "len(df[df.reporting_category == 'NG_PneumaticDevices'])"
   ]
  },
  {
   "cell_type": "code",
   "execution_count": null,
   "id": "56f849f7-211f-4a11-914f-f901ee9dac8f",
   "metadata": {},
   "outputs": [],
   "source": [
    "df.columns"
   ]
  },
  {
   "cell_type": "code",
   "execution_count": null,
   "id": "678eb88c-e445-4102-8149-62199eada5dd",
   "metadata": {},
   "outputs": [],
   "source": [
    "# Drop Pneumatic Devices from original dataset\n",
    "df = df[df.reporting_category != 'NG_PneumaticDevices']\n",
    "\n",
    "# add them from this csv file\n",
    "pneumatic_devices_df = pd.read_csv('ef_w_ngpneumatic_dev_units.csv')\n",
    "pneumatic_devices_df = pneumatic_devices_df[['facility_id','reporting_year','facility_name','estimated_number_of_hours','pneumatic_device_type','total_count','pneum_device_type_tot_co2_emm','total_ch4_emissions']]\n",
    "pneumatic_devices_df=pneumatic_devices_df.rename(columns={'pneumatic_device_type':'Unit Name','estimated_number_of_hours':'pneu_est_no_of_hours','total_count':'pneu_dev_total_count','pneum_device_type_tot_co2_emm':'total_co2_emissions'})\n",
    "pneumatic_devices_df[['total_co2_emissions','total_ch4_emissions']] = pneumatic_devices_df[['total_co2_emissions','total_ch4_emissions']].fillna(0)\n",
    "pneumatic_devices_df['total_ch4_emissions'] = pneumatic_devices_df['total_ch4_emissions'] * 25\n",
    "pneumatic_devices_df['total_n2o_emissions'] = 0\n",
    "pneumatic_devices_df['reporting_category'] = 'NG_PneumaticDevices'\n",
    "pneumatic_devices_df['subpart'] = 'SubpartW'\n",
    "\n",
    "df = pd.concat([df,pneumatic_devices_df], ignore_index=True)\n",
    "df = df.drop(columns=['state'])"
   ]
  },
  {
   "cell_type": "markdown",
   "id": "f0874ee5-db66-4096-9262-01973543dd20",
   "metadata": {},
   "source": [
    "## Concat AssociatedGasVentingFlaring from detailed dataset"
   ]
  },
  {
   "cell_type": "code",
   "execution_count": null,
   "id": "5fcd17f6-7035-417c-aae1-0929557283ea",
   "metadata": {},
   "outputs": [],
   "source": [
    "len(df[df.reporting_category == 'AssociatedGasVentingFlaring'])"
   ]
  },
  {
   "cell_type": "code",
   "execution_count": null,
   "id": "b4e066d5-87fb-4f21-8028-b57ea21d6577",
   "metadata": {},
   "outputs": [],
   "source": [
    "# Drop AssociatedGasVentingFlaring from original dataset\n",
    "df = df[df.reporting_category != 'AssociatedGasVentingFlaring']"
   ]
  },
  {
   "cell_type": "code",
   "execution_count": null,
   "id": "9da12e11-f7e5-48e7-9a35-ba6b0bc6d096",
   "metadata": {},
   "outputs": [],
   "source": [
    "# add them from this csv file\n",
    "venting_flaring_df = pd.read_csv('ef_w_associated_ng_units.csv')"
   ]
  },
  {
   "cell_type": "code",
   "execution_count": null,
   "id": "dfdea1bb-c4dc-4729-80ca-fdd9115c11d4",
   "metadata": {},
   "outputs": [],
   "source": [
    "venting_flaring_df[['basin_ag_flaring_co2_emissions','basin_ag_venting_co2_emissions','venting_ch4_emissions','flaring_ch4_emissions']] = venting_flaring_df[['basin_ag_flaring_co2_emissions','basin_ag_venting_co2_emissions','venting_ch4_emissions','flaring_ch4_emissions']].fillna(0)\n",
    "venting_flaring_df['total_co2_emissions'] =  venting_flaring_df['basin_ag_flaring_co2_emissions'] + venting_flaring_df['basin_ag_venting_co2_emissions']\n",
    "venting_flaring_df['total_ch4_emissions'] =  venting_flaring_df['venting_ch4_emissions'] + venting_flaring_df['flaring_ch4_emissions']\n",
    "venting_flaring_df = venting_flaring_df.drop(['basin_ag_flaring_co2_emissions','basin_ag_venting_co2_emissions','venting_ch4_emissions','flaring_ch4_emissions'],axis=1)\n",
    "venting_flaring_df = venting_flaring_df.rename(columns={'flaring_n2o_emissions':'total_n2o_emissions'})\n",
    "venting_flaring_df[['total_n2o_emissions']] = venting_flaring_df[['total_n2o_emissions']].fillna(0)\n",
    "venting_flaring_df['total_ch4_emissions'] = venting_flaring_df['total_ch4_emissions'] * 25\n",
    "venting_flaring_df['total_n2o_emissions'] = venting_flaring_df['total_n2o_emissions'] * 298\n",
    "venting_flaring_df['reporting_category'] = 'AssociatedGasVentingFlaring'\n",
    "venting_flaring_df['subpart'] = 'SubpartW'\n",
    "venting_flaring_df = venting_flaring_df.drop(['facility_name','industry_segment','wells_two_year_delay'], axis=1)\n",
    "df = pd.concat([df,venting_flaring_df], ignore_index=True)"
   ]
  },
  {
   "cell_type": "markdown",
   "id": "bc5d720d-8f0a-4d59-9283-a4e08b82658f",
   "metadata": {},
   "source": [
    "## Concat AtmosphericTanks from detailed dataset"
   ]
  },
  {
   "cell_type": "code",
   "execution_count": null,
   "id": "20048f6f-34ee-479f-b207-15310d8cdb2a",
   "metadata": {},
   "outputs": [],
   "source": [
    "len(df[df.reporting_category == 'AtmosphericTanks'])"
   ]
  },
  {
   "cell_type": "code",
   "execution_count": null,
   "id": "aa3c3ac9-ec87-4083-9e55-2a4845e49d75",
   "metadata": {},
   "outputs": [],
   "source": [
    "# Drop AssociatedGasVentingFlaring from original dataset\n",
    "df = df[df.reporting_category != 'AtmosphericTanks']"
   ]
  },
  {
   "cell_type": "code",
   "execution_count": null,
   "id": "2810252d-535f-4be8-96c3-e9115ffcbcc4",
   "metadata": {},
   "outputs": [],
   "source": [
    "# add them from this csv file\n",
    "athmospheric_tanks_df = pd.read_csv('ef_w_atm_stg_tanks_calc1or2.csv')"
   ]
  },
  {
   "cell_type": "code",
   "execution_count": null,
   "id": "98443b26-fd5b-4e18-ac10-ec1f648b6c38",
   "metadata": {},
   "outputs": [],
   "source": [
    "athmospheric_tanks_df[['dump_valve_co2_emissions','flaring_co2_emissions','vapor_recovery_co2_emissions','venting_co2_emissions']] = athmospheric_tanks_df[['dump_valve_co2_emissions','flaring_co2_emissions','vapor_recovery_co2_emissions','venting_co2_emissions']].fillna(0)\n",
    "athmospheric_tanks_df[['dump_valve_ch4_emissions','flaring_ch4_emissions','vapor_recovery_ch4_emissions','venting_ch4_emissions']] = athmospheric_tanks_df[['dump_valve_ch4_emissions','flaring_ch4_emissions','vapor_recovery_ch4_emissions','venting_ch4_emissions']].fillna(0)\n",
    "\n",
    "athmospheric_tanks_df['total_co2_emissions'] =  athmospheric_tanks_df['dump_valve_co2_emissions'] + athmospheric_tanks_df['flaring_co2_emissions'] + athmospheric_tanks_df['vapor_recovery_co2_emissions'] + athmospheric_tanks_df['venting_co2_emissions']\n",
    "athmospheric_tanks_df['total_ch4_emissions'] =  athmospheric_tanks_df['dump_valve_ch4_emissions'] + athmospheric_tanks_df['flaring_ch4_emissions'] + athmospheric_tanks_df['vapor_recovery_ch4_emissions']+athmospheric_tanks_df['venting_ch4_emissions'] \n",
    "athmospheric_tanks_df = athmospheric_tanks_df.rename(columns={'flaring_n2o_emissions':'total_n2o_emissions'})\n",
    "athmospheric_tanks_df[['total_n2o_emissions']] = athmospheric_tanks_df[['total_n2o_emissions']].fillna(0)\n",
    "athmospheric_tanks_df = athmospheric_tanks_df.drop(['dump_valve_co2_emissions','flaring_co2_emissions','vapor_recovery_co2_emissions','venting_co2_emissions'],axis=1)\n",
    "athmospheric_tanks_df = athmospheric_tanks_df.drop(['dump_valve_ch4_emissions','flaring_ch4_emissions','vapor_recovery_ch4_emissions','venting_ch4_emissions'],axis=1)\n",
    "athmospheric_tanks_df['total_ch4_emissions'] = athmospheric_tanks_df['total_ch4_emissions'] * 25\n",
    "athmospheric_tanks_df['total_n2o_emissions'] = athmospheric_tanks_df['total_n2o_emissions'] * 298\n",
    "athmospheric_tanks_df=athmospheric_tanks_df[['facility_id','reporting_year','total_co2_emissions','total_ch4_emissions','total_n2o_emissions','annual_ch4_recovered','annual_co2_recovered','atmospheric_tank_count',\n",
    "                                             'average_a_p_i_gravity','average_separator_pressure','average_separator_temperature',\n",
    "                                             'hrs_dump_valves_did_not_close','not_on_well_pad_tank_count','num_seps_with_stuck_dump_val',\n",
    "                                             'number_of_wells_send_oil','tanks_venting_to_atm','tanks_with_flaring','tanks_with_vapor_recovery',\n",
    "'total_volume_of_oil']]\n",
    "athmospheric_tanks_df['reporting_category'] = 'AtmosphericTanks'\n",
    "athmospheric_tanks_df['subpart'] = 'SubpartW'"
   ]
  },
  {
   "cell_type": "code",
   "execution_count": null,
   "id": "5fc88b23-0902-4779-9296-db6c95914c1e",
   "metadata": {},
   "outputs": [],
   "source": [
    "athmospheric_tanks_2_df = pd.read_csv('ef_w_atm_stg_tanks_calc3.csv')\n",
    "\n",
    "athmospheric_tanks_2_df[['co2_emissions_from_flare','co2_emissions_not_flared','ch4_emissions_from_flare','ch4_emissions_not_flared']] = athmospheric_tanks_2_df[['co2_emissions_from_flare','co2_emissions_not_flared','ch4_emissions_from_flare','ch4_emissions_not_flared']].fillna(0)\n",
    "\n",
    "athmospheric_tanks_2_df['total_co2_emissions'] =  athmospheric_tanks_2_df['co2_emissions_from_flare'] + athmospheric_tanks_2_df['co2_emissions_not_flared']\n",
    "athmospheric_tanks_2_df['total_ch4_emissions'] =  athmospheric_tanks_2_df['ch4_emissions_from_flare'] + athmospheric_tanks_2_df['ch4_emissions_not_flared']\n",
    "athmospheric_tanks_2_df = athmospheric_tanks_2_df.drop(['co2_emissions_from_flare','co2_emissions_not_flared','ch4_emissions_from_flare','ch4_emissions_not_flared'],axis=1)\n",
    "athmospheric_tanks_2_df = athmospheric_tanks_2_df.rename(columns={'n2o_emissions_from_flare':'total_n2o_emissions'})\n",
    "athmospheric_tanks_2_df[['total_n2o_emissions']] = athmospheric_tanks_2_df[['total_n2o_emissions']].fillna(0)\n",
    "athmospheric_tanks_2_df['total_ch4_emissions'] = athmospheric_tanks_2_df['total_ch4_emissions'] * 25\n",
    "athmospheric_tanks_2_df['total_n2o_emissions'] = athmospheric_tanks_2_df['total_n2o_emissions'] * 298\n",
    "athmospheric_tanks_2_df=athmospheric_tanks_2_df[['facility_id','reporting_year','total_co2_emissions','total_ch4_emissions','total_n2o_emissions',\n",
    "                                                 'annual_oil_throughput','atmospheric_tank_count','fract_oil_throughput_flaring',\n",
    "                                                'fract_throughput_with_vapor','tanks_with_flares','tanks_without_flares',\n",
    "                                                'wells_with_seps','wells_without_seps']]\n",
    "athmospheric_tanks_2_df['reporting_category'] = 'AtmosphericTanks'\n",
    "athmospheric_tanks_2_df['subpart'] = 'SubpartW'"
   ]
  },
  {
   "cell_type": "code",
   "execution_count": null,
   "id": "6ae0cb5c-8a28-44f2-9e2a-5c34e0ba8776",
   "metadata": {},
   "outputs": [],
   "source": [
    "df = pd.concat([df,athmospheric_tanks_df,athmospheric_tanks_2_df], ignore_index=True)\n",
    "len(df)"
   ]
  },
  {
   "cell_type": "code",
   "execution_count": null,
   "id": "1ae752d2-eb4e-4254-97b7-fdf0f54b2eee",
   "metadata": {},
   "outputs": [],
   "source": [
    "generate_column_info(df)"
   ]
  },
  {
   "cell_type": "code",
   "execution_count": null,
   "id": "022bd76f-343c-43f7-a8dd-7a3e88265d8f",
   "metadata": {},
   "outputs": [],
   "source": [
    "df[(df['facility_id']==1001727) & df['reporting_year']==2023]"
   ]
  },
  {
   "cell_type": "markdown",
   "id": "3ca64099-0e6c-4d9c-9534-d70adf1a6e6d",
   "metadata": {},
   "source": [
    "## Create total_ghg_emissions column"
   ]
  },
  {
   "cell_type": "code",
   "execution_count": null,
   "id": "726024c2-b414-4296-966c-dfc4b97bb40f",
   "metadata": {},
   "outputs": [],
   "source": [
    "df['total_ghg_emissions'] = df['total_co2_emissions'] + df['total_ch4_emissions'] + df['total_n2o_emissions']\n",
    "df = df[df['total_ghg_emissions']>0]"
   ]
  },
  {
   "cell_type": "code",
   "execution_count": null,
   "id": "c6092a41-1cc5-4730-b81a-4750b5627fbb",
   "metadata": {},
   "outputs": [],
   "source": [
    "len(df)"
   ]
  },
  {
   "cell_type": "code",
   "execution_count": null,
   "id": "56ac2cb4-45b2-4d89-8dbf-3f4ea63f5665",
   "metadata": {},
   "outputs": [],
   "source": [
    "generate_column_info(df)"
   ]
  },
  {
   "cell_type": "code",
   "execution_count": null,
   "id": "7ca4f984-6854-41eb-b3cf-a8afbcf95678",
   "metadata": {},
   "outputs": [],
   "source": [
    "df[(df['reporting_year']==2022) & (df['facility_id']==1000435)][['reporting_category','total_co2_emissions','total_ch4_emissions','total_n2o_emissions','total_ghg_emissions']]"
   ]
  },
  {
   "cell_type": "markdown",
   "id": "c7d5ac91-5c22-4691-86a4-566be8dfe96d",
   "metadata": {},
   "source": [
    "## Filter df to only required subsectors"
   ]
  },
  {
   "cell_type": "code",
   "execution_count": null,
   "id": "821c1917-72bc-40f4-9160-b785da5793a8",
   "metadata": {},
   "outputs": [],
   "source": [
    "facilities_in_required_subsectors = facilities_master_df['facility_id'].unique()\n",
    "print(len(df))\n",
    "df = df[df.facility_id.isin(facilities_in_required_subsectors)]\n",
    "print(len(df))"
   ]
  },
  {
   "cell_type": "code",
   "execution_count": null,
   "id": "0d5c36ab-118a-444b-b7a3-84572f162b6b",
   "metadata": {},
   "outputs": [],
   "source": []
  },
  {
   "cell_type": "markdown",
   "id": "2d6cad99-aec6-4e2a-ad5d-73fff8306684",
   "metadata": {},
   "source": [
    "## Join Facilities Metadata"
   ]
  },
  {
   "cell_type": "code",
   "execution_count": null,
   "id": "37dbb69c-c458-4459-88de-a0906bbd3a5f",
   "metadata": {},
   "outputs": [],
   "source": [
    "df = pd.merge(df,facilities_master_df,how='left',on=['facility_id','reporting_year'])\n"
   ]
  },
  {
   "cell_type": "code",
   "execution_count": null,
   "id": "66ada5cd-3e53-46e7-9b07-f4cb9d4cf84a",
   "metadata": {},
   "outputs": [],
   "source": [
    "# remove rows for facility ids which do not have an exact match for the facilityid-reporting year combination in the facilities\n",
    "#master\n",
    "df = df[df['sub_sector'].notnull()]#.groupby(['facility_id','reporting_year']).count().reset_index()\n"
   ]
  },
  {
   "cell_type": "code",
   "execution_count": null,
   "id": "43d50b81-edd8-4695-8187-e96697861a2e",
   "metadata": {},
   "outputs": [],
   "source": [
    "generate_column_info(df)"
   ]
  },
  {
   "cell_type": "markdown",
   "id": "1801c299-73cc-4e2e-93b4-847c3b478675",
   "metadata": {},
   "source": [
    "## Remove Rows with Null Reporting Category"
   ]
  },
  {
   "cell_type": "code",
   "execution_count": null,
   "id": "2918f627-d751-46be-8103-fe83a97582df",
   "metadata": {},
   "outputs": [],
   "source": [
    "#df['facility_id'] = df['facility_id'].astype('int')\n",
    "#df['reporting_year'] = df['reporting_year'].astype('int')\n",
    "#df[(df['facility_id']==1002685) & (df['reporting_year']==2023)]\n",
    "df[df['reporting_category'].isna()]"
   ]
  },
  {
   "cell_type": "code",
   "execution_count": null,
   "id": "88105805-3c44-48f6-88a5-6eeca7ff4536",
   "metadata": {},
   "outputs": [],
   "source": [
    "df = df[df['reporting_category'].notnull()]"
   ]
  },
  {
   "cell_type": "code",
   "execution_count": null,
   "id": "e59f8767-472e-46f1-b07c-91b58ec996be",
   "metadata": {},
   "outputs": [],
   "source": [
    "#df[df['reporting_category'].isna()]"
   ]
  },
  {
   "cell_type": "markdown",
   "id": "1caecf00-475c-4775-8817-3a7dbd8d40f0",
   "metadata": {},
   "source": [
    "## Filter rows based on EPA verified facility_id reporting_year list"
   ]
  },
  {
   "cell_type": "code",
   "execution_count": null,
   "id": "469f409b-e616-4996-b6c1-c173270b5b41",
   "metadata": {},
   "outputs": [],
   "source": [
    "#epa_verified_unique_facilities_df['EPA verified'] = 1\n",
    "df = pd.merge(df,epa_verified_unique_facilities_df,how='left',on=['facility_id','reporting_year'])\n",
    "df"
   ]
  },
  {
   "cell_type": "code",
   "execution_count": null,
   "id": "a29e61de-ea31-44a0-ae0f-5670d6e47d4f",
   "metadata": {},
   "outputs": [],
   "source": [
    "df[df['EPA_verified']==1]"
   ]
  },
  {
   "cell_type": "code",
   "execution_count": null,
   "id": "4fb43d71-ffb4-4f3d-85af-2103669175cb",
   "metadata": {},
   "outputs": [],
   "source": [
    "#df = df[df['GHG FACILITY_WIDE_GHG_QUANTITY']>0]"
   ]
  },
  {
   "cell_type": "markdown",
   "id": "8d414fa5-fa11-4cfc-b600-fd6324ae4e15",
   "metadata": {},
   "source": [
    "## Validate GHG Quantity for facility and add diff_percent_GHG to df"
   ]
  },
  {
   "cell_type": "code",
   "execution_count": null,
   "id": "594fdc9e-51d3-441e-8713-01b1f3216151",
   "metadata": {},
   "outputs": [],
   "source": [
    "\n",
    "validation_df = df\n",
    "validation_df = validation_df[['facility_id','reporting_year','total_co2_emissions','total_ch4_emissions','total_n2o_emissions','total_ghg_emissions']]\n",
    "validation_df=validation_df.groupby(['facility_id','reporting_year']).sum().reset_index()\n",
    "validation_df = pd.merge(validation_df,facilities_master_df[['facility_id','reporting_year','FACILITY_WIDE_GHG_QUANTITY']],how='left',on=['facility_id','reporting_year'])\n",
    "validation_df['diff'] = (validation_df['FACILITY_WIDE_GHG_QUANTITY']-validation_df['total_ghg_emissions']).abs()\n",
    "validation_df['diff_percent_GHG']=100*validation_df['diff']/validation_df['FACILITY_WIDE_GHG_QUANTITY']\n",
    "validation_df.to_csv('output_validation.csv', index=False)\n",
    "validation_df = validation_df[['facility_id','reporting_year','diff_percent_GHG']]\n",
    "#validation_df[validation_df.diff_percent_GHG > 10]"
   ]
  },
  {
   "cell_type": "code",
   "execution_count": null,
   "id": "41dd6fe9-9419-45b1-879e-62c06a1baaff",
   "metadata": {},
   "outputs": [],
   "source": [
    "df = pd.merge(df,validation_df,how='left',on=['facility_id','reporting_year'])"
   ]
  },
  {
   "cell_type": "code",
   "execution_count": null,
   "id": "0c96fa3d-f05e-4e8b-88ef-ca8a98621916",
   "metadata": {},
   "outputs": [],
   "source": []
  },
  {
   "cell_type": "code",
   "execution_count": null,
   "id": "238140e8-2c6b-46e5-a49a-ca78a55cd94b",
   "metadata": {},
   "outputs": [],
   "source": []
  },
  {
   "cell_type": "code",
   "execution_count": null,
   "id": "ac95f854-1e0b-4f05-907a-6569329f1c24",
   "metadata": {},
   "outputs": [],
   "source": []
  },
  {
   "cell_type": "code",
   "execution_count": null,
   "id": "7529c4be-2195-45c6-9798-fec0195f790b",
   "metadata": {},
   "outputs": [],
   "source": [
    "generate_column_info(df)"
   ]
  },
  {
   "cell_type": "code",
   "execution_count": null,
   "id": "f3820af0-b204-4bb1-a390-1737ba5e170f",
   "metadata": {},
   "outputs": [],
   "source": [
    "df.to_csv('output.csv', index=False)"
   ]
  },
  {
   "cell_type": "code",
   "execution_count": null,
   "id": "ef1a7791-4341-44c1-a1c2-3272e3be5312",
   "metadata": {},
   "outputs": [],
   "source": []
  },
  {
   "cell_type": "code",
   "execution_count": null,
   "id": "9d367a60-3c47-43c5-8ad0-b09ad3e9af8e",
   "metadata": {},
   "outputs": [],
   "source": [
    "#AssociatedGasVentingFlaring\n",
    "\n",
    "# AtmosphericTanks"
   ]
  },
  {
   "cell_type": "code",
   "execution_count": null,
   "id": "049e996d-b377-43a2-b285-fe25e097eaa5",
   "metadata": {},
   "outputs": [],
   "source": []
  },
  {
   "cell_type": "code",
   "execution_count": null,
   "id": "b5cb0cdc-8286-4165-966f-f9f4da9a26a8",
   "metadata": {},
   "outputs": [],
   "source": []
  },
  {
   "cell_type": "code",
   "execution_count": null,
   "id": "6988e08c-e11f-4127-a61c-33489693d3bd",
   "metadata": {},
   "outputs": [],
   "source": []
  }
 ],
 "metadata": {
  "kernelspec": {
   "display_name": "Python 3 (ipykernel)",
   "language": "python",
   "name": "python3"
  },
  "language_info": {
   "codemirror_mode": {
    "name": "ipython",
    "version": 3
   },
   "file_extension": ".py",
   "mimetype": "text/x-python",
   "name": "python",
   "nbconvert_exporter": "python",
   "pygments_lexer": "ipython3",
   "version": "3.9.2"
  }
 },
 "nbformat": 4,
 "nbformat_minor": 5
}
